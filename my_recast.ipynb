{
 "cells": [
  {
   "cell_type": "code",
   "execution_count": 2,
   "metadata": {},
   "outputs": [],
   "source": [
    "# Load the module darkcast---see https://gitlab.com/philten/darkcast and https://arxiv.org/abs/1801.04847\n",
    "import darkcast\n"
   ]
  },
  {
   "cell_type": "markdown",
   "metadata": {
    "heading_collapsed": true
   },
   "source": [
    "## try LHCb"
   ]
  },
  {
   "cell_type": "code",
   "execution_count": 3,
   "metadata": {
    "hidden": true
   },
   "outputs": [
    {
     "name": "stdout",
     "output_type": "stream",
     "text": [
      "\n",
      "This limit was taken from the 'prompt-excluded.txt' data file supplied\n",
      "in the supplemental material of LHCb_Aaij2019bvg, available at:\n",
      "https://cds.cern.ch/record/2691573/files/LHCb-PAPER-2019-031-figures.zip\n",
      "\n",
      "The limit is prompt, so t0 = 0. The selection is similar to the\n",
      "phenomenology study of Ilten:2016tkc and so the definition of the\n",
      "maximum proper lifetime from this paper is used, 0.04/(m - 2m_mu) +\n",
      "0.1 ps.\n",
      "\n",
      "The production is non-trivial and so the Monte Carlo results of\n",
      "Ilten:2018crw are used, stored in 'LHCb_Aaij2017rft.prd'. Note that\n",
      "differences in the fiducial requirements will introduce some changes\n",
      "in these production fractions, so proceed with caution when recasting\n",
      "these results.\n",
      "\n",
      "\n",
      "@article{Aaij:2019bvg,\n",
      " author         = \"Aaij, Roel and others\",\n",
      " title          = \"{Search for $A'\\!\to\\!\\mu^+\\mu^-$ decays}\",\n",
      " collaboration  = \"LHCb\",\n",
      " year           = \"2019\",\n",
      " eprint         = \"1910.06926\",\n",
      " archivePrefix  = \"arXiv\",\n",
      " primaryClass   = \"hep-ex\",\n",
      " reportNumber   = \"LHCb-PAPER-2019-031, CERN-EP-2019-212\",\n",
      " SLACcitation   = \"%%CITATION = ARXIV:1910.06926;%%\"\n",
      "}\n",
      "\n"
     ]
    }
   ],
   "source": [
    "# Load a limit, here the LHCb prompt limit.\n",
    "limit = darkcast.Limit('LHCb_Aaij2019bvg_prompt')\n",
    "\n",
    "# Print the notes and BibTex for the limit.\n",
    "print (limit.notes)\n",
    "print (limit.bibtex)\n",
    "\n"
   ]
  },
  {
   "cell_type": "code",
   "execution_count": 14,
   "metadata": {
    "hidden": true
   },
   "outputs": [],
   "source": [
    "# Load a model for recasting.\n",
    "model = darkcast.Model('theta_model')\n",
    "recast = limit.recast(model)"
   ]
  },
  {
   "cell_type": "code",
   "execution_count": 9,
   "metadata": {
    "hidden": true
   },
   "outputs": [],
   "source": [
    "# data=recast.plots()\n",
    "# x,y=data[0]\n"
   ]
  },
  {
   "cell_type": "code",
   "execution_count": null,
   "metadata": {
    "hidden": true
   },
   "outputs": [],
   "source": []
  },
  {
   "cell_type": "code",
   "execution_count": null,
   "metadata": {
    "hidden": true
   },
   "outputs": [],
   "source": []
  },
  {
   "cell_type": "code",
   "execution_count": 15,
   "metadata": {
    "hidden": true,
    "scrolled": true
   },
   "outputs": [
    {
     "data": {
      "image/png": "[encoded data removed]",
      "text/plain": [
       "<matplotlib.figure.Figure at 0x7f09690029b0>"
      ]
     },
     "metadata": {},
     "output_type": "display_data"
    }
   ],
   "source": [
    "import matplotlib.pyplot as plt\n",
    "\n",
    "fig, ax = plt.subplots()\n",
    "    \n",
    "    \n",
    "for x, y in recast.plots():\n",
    "    ax.fill(x, y, alpha = 0.3)\n",
    "    \n",
    "ax.set_xscale(\"log\")\n",
    "ax.set_yscale(\"log\")\n",
    "ax.set_xlim([2e-3, 1e2])\n",
    "ax.set_ylim([1e-8, 1e1])\n",
    "ax.set_xlabel(\"mass [GeV]\")\n",
    "ax.set_ylabel(\"g\")    \n",
    "plt.show()"
   ]
  },
  {
   "cell_type": "code",
   "execution_count": 22,
   "metadata": {
    "hidden": true
   },
   "outputs": [
    {
     "data": {
      "text/plain": [
       "0.000678287722938916"
      ]
     },
     "execution_count": 22,
     "metadata": {},
     "output_type": "execute_result"
    }
   ],
   "source": [
    "y[0]"
   ]
  },
  {
   "cell_type": "markdown",
   "metadata": {
    "heading_collapsed": true
   },
   "source": [
    "## BaBar"
   ]
  },
  {
   "cell_type": "code",
   "execution_count": 2,
   "metadata": {
    "hidden": true
   },
   "outputs": [],
   "source": [
    "limit = darkcast.Limit('BaBar_Lees2014xha')\n",
    "model = darkcast.Model('theta_model')\n",
    "recast = limit.recast(model)"
   ]
  },
  {
   "cell_type": "code",
   "execution_count": 4,
   "metadata": {
    "hidden": true
   },
   "outputs": [
    {
     "data": {
      "image/png": "[encoded data removed]",
      "text/plain": [
       "<matplotlib.figure.Figure at 0x7f478729abe0>"
      ]
     },
     "metadata": {},
     "output_type": "display_data"
    }
   ],
   "source": [
    "import matplotlib.pyplot as plt\n",
    "fig, ax = plt.subplots()    \n",
    "    \n",
    "for x, y in recast.plots():\n",
    "    ax.fill(x, y, alpha = 0.3)\n",
    "    \n",
    "ax.set_xscale(\"log\")\n",
    "ax.set_yscale(\"log\")\n",
    "ax.set_xlim([2e-3, 1e2])\n",
    "ax.set_ylim([1e-8, 1e1])\n",
    "ax.set_xlabel(\"mass [GeV]\")\n",
    "ax.set_ylabel(\"g\")    \n",
    "plt.show()"
   ]
  },
  {
   "cell_type": "code",
   "execution_count": 5,
   "metadata": {
    "hidden": true
   },
   "outputs": [
    {
     "name": "stdout",
     "output_type": "stream",
     "text": [
      "[0.020241, 0.01838480172615673]\n",
      "[10.189, 0.03203897061805604]\n"
     ]
    }
   ],
   "source": [
    "data=recast.plots()\n",
    "x,y=data[0]\n",
    "print ([x[0],y[0]])\n",
    "x,y=data[-1]\n",
    "print ([x[0],y[0]])"
   ]
  },
  {
   "cell_type": "code",
   "execution_count": 6,
   "metadata": {
    "hidden": true
   },
   "outputs": [],
   "source": [
    "#result for (xe=xmu=xtau=0.287 , xother=0) is \n",
    "# [0.020241, 0.001844048813240418]\n",
    "# [10.189, 0.0004076110102495509]\n",
    "\n",
    "\n",
    "#result for (xe=xmu=xtau=0.0287 , xother=0) is \n",
    "# [0.020241, 0.01838480172615673]\n",
    "# [10.189, 0.004063801104954493]\n"
   ]
  },
  {
   "cell_type": "markdown",
   "metadata": {
    "heading_collapsed": true
   },
   "source": [
    "# $\\theta$ model"
   ]
  },
  {
   "cell_type": "code",
   "execution_count": null,
   "metadata": {
    "hidden": true
   },
   "outputs": [],
   "source": []
  },
  {
   "cell_type": "code",
   "execution_count": 4,
   "metadata": {
    "hidden": true
   },
   "outputs": [],
   "source": [
    "model_name='theta_model';\n",
    "model = darkcast.Model(model_name)\n"
   ]
  },
  {
   "cell_type": "code",
   "execution_count": 6,
   "metadata": {
    "hidden": true
   },
   "outputs": [],
   "source": [
    "for limit_name in ['BaBar_Lees2014xha','LHCb_Aaij2019bvg_prompt',\"NA48_Batley2015lha\",\"KLOE_Babusci2012cr\",\n",
    "                   \"E137_Andreas2012mt\",\n",
    "                   \"E141_Riordan1987aw\",\"E774_Bross1989mp\",\"Orsay_Davier1989wz\"]:\n",
    "    limit = darkcast.Limit(limit_name)\n",
    "    recast = limit.recast(model)\n",
    "    recast.write(\"data/\"+model_name+\"/\"+limit_name+\".dat\")"
   ]
  },
  {
   "cell_type": "code",
   "execution_count": null,
   "metadata": {
    "hidden": true
   },
   "outputs": [],
   "source": []
  },
  {
   "cell_type": "markdown",
   "metadata": {
    "heading_collapsed": true
   },
   "source": [
    "# $\\epsilon$ model"
   ]
  },
  {
   "cell_type": "code",
   "execution_count": null,
   "metadata": {
    "hidden": true
   },
   "outputs": [],
   "source": []
  },
  {
   "cell_type": "code",
   "execution_count": 7,
   "metadata": {
    "hidden": true
   },
   "outputs": [],
   "source": [
    "model_name=\"eps_model\";\n",
    "for model_name_ext in [\"_rm1e-1\",\"_rm1e-2\",\"_rm1e-10\"]:\n",
    "    model = darkcast.Model(model_name+model_name_ext)\n",
    "    for limit_name in ['BaBar_Lees2014xha','LHCb_Aaij2019bvg_prompt',\"NA48_Batley2015lha\",\"KLOE_Babusci2012cr\",\n",
    "                       \"E137_Andreas2012mt\",\n",
    "                   \"E141_Riordan1987aw\",\"E774_Bross1989mp\",\"Orsay_Davier1989wz\"]:\n",
    "        limit = darkcast.Limit(limit_name)\n",
    "        recast = limit.recast(model)\n",
    "        recast.write(\"data/\"+model_name+\"/\"+limit_name+model_name_ext+\".dat\")"
   ]
  },
  {
   "cell_type": "code",
   "execution_count": 8,
   "metadata": {
    "hidden": true
   },
   "outputs": [
    {
     "data": {
      "text/plain": [
       "0.26576024227307316"
      ]
     },
     "execution_count": 8,
     "metadata": {},
     "output_type": "execute_result"
    }
   ],
   "source": [
    "model.xfs[\"e\"](0)"
   ]
  },
  {
   "cell_type": "code",
   "execution_count": 9,
   "metadata": {
    "hidden": true
   },
   "outputs": [
    {
     "data": {
      "text/plain": [
       "1.2202653863595701e-11"
      ]
     },
     "execution_count": 9,
     "metadata": {},
     "output_type": "execute_result"
    }
   ],
   "source": [
    "model.xfs[\"nue\"](0)"
   ]
  },
  {
   "cell_type": "code",
   "execution_count": null,
   "metadata": {
    "hidden": true
   },
   "outputs": [],
   "source": [
    "# for limit_name in ['BaBar_Lees2014xha','LHCb_Aaij2019bvg_prompt',\"NA48_Batley2015lha\",\"E137_Andreas2012mt\",\n",
    "#                    \"E141_Riordan1987aw\",\"E774_Bross1989mp\",\"Orsay_Davier1989wz\"]:\n",
    "#     limit = darkcast.Limit(limit_name)\n",
    "#     recast = limit.recast(model)\n",
    "#     recast.write(\"data/\"+model_name+\"/\"+limit_name+\".dat\")"
   ]
  },
  {
   "cell_type": "markdown",
   "metadata": {
    "heading_collapsed": true
   },
   "source": [
    "# R model"
   ]
  },
  {
   "cell_type": "code",
   "execution_count": 10,
   "metadata": {
    "hidden": true
   },
   "outputs": [],
   "source": [
    "model_name=\"R_model\";\n",
    "\n",
    "model = darkcast.Model(model_name)\n",
    "for limit_name in ['BaBar_Lees2014xha','LHCb_Aaij2019bvg_prompt',\"NA48_Batley2015lha\",\"KLOE_Babusci2012cr\",\n",
    "                   \"E137_Andreas2012mt\",\n",
    "               \"E141_Riordan1987aw\",\"E774_Bross1989mp\",\"Orsay_Davier1989wz\"]:\n",
    "    limit = darkcast.Limit(limit_name)\n",
    "    recast = limit.recast(model)\n",
    "    recast.write(\"data/\"+model_name+\"/\"+limit_name+\".dat\")"
   ]
  },
  {
   "cell_type": "code",
   "execution_count": null,
   "metadata": {
    "hidden": true
   },
   "outputs": [],
   "source": []
  },
  {
   "cell_type": "markdown",
   "metadata": {
    "heading_collapsed": true
   },
   "source": [
    "# B model"
   ]
  },
  {
   "cell_type": "code",
   "execution_count": 3,
   "metadata": {
    "hidden": true
   },
   "outputs": [],
   "source": [
    "model_name=\"B_model\";\n",
    "\n",
    "model = darkcast.Model(model_name)\n",
    "for limit_name in ['BaBar_Lees2014xha','LHCb_Aaij2019bvg_prompt',\"NA48_Batley2015lha\",\"KLOE_Babusci2012cr\",\"E137_Andreas2012mt\",\n",
    "               \"E141_Riordan1987aw\",\"E774_Bross1989mp\",\"Orsay_Davier1989wz\"]:\n",
    "    limit = darkcast.Limit(limit_name)\n",
    "    recast = limit.recast(model)\n",
    "    recast.write(\"data/\"+model_name+\"/\"+limit_name+\".dat\")"
   ]
  },
  {
   "cell_type": "code",
   "execution_count": null,
   "metadata": {
    "hidden": true
   },
   "outputs": [],
   "source": []
  },
  {
   "cell_type": "markdown",
   "metadata": {
    "heading_collapsed": true
   },
   "source": [
    "# BxL model"
   ]
  },
  {
   "cell_type": "code",
   "execution_count": 25,
   "metadata": {
    "hidden": true
   },
   "outputs": [],
   "source": []
  },
  {
   "cell_type": "code",
   "execution_count": 2,
   "metadata": {
    "hidden": true
   },
   "outputs": [
    {
     "name": "stdout",
     "output_type": "stream",
     "text": [
      "  1.0 0.7071067811865475\n",
      "  0.1 0.07071067811865475\n",
      "  0.01 0.0070710678118654745\n",
      "  0.001 0.0007071067811865475\n"
     ]
    }
   ],
   "source": [
    "import numpy as np\n",
    "xlist=np.loadtxt(\"data/BxL_model/xlist.csv\")\n",
    "\n",
    "model_name=\"BxL_model\";\n",
    "for i,x in enumerate(xlist):\n",
    "# for model_name_ext in [\"1\",\"2\",\"3\"]:\n",
    "    model_name_ext=str(i+1)\n",
    "    model = darkcast.Model(model_name+model_name_ext)\n",
    "    print(\"\\r \",x, model.xfs[\"e\"](0))\n",
    "    for limit_name in ['BaBar_Lees2014xha','LHCb_Aaij2019bvg_prompt',\"NA48_Batley2015lha\",\"KLOE_Babusci2012cr\",\"E137_Andreas2012mt\",\n",
    "                   \"E141_Riordan1987aw\",\"E774_Bross1989mp\",\"Orsay_Davier1989wz\"]:\n",
    "        limit = darkcast.Limit(limit_name)\n",
    "        recast = limit.recast(model)\n",
    "        recast.write(\"data/\"+model_name+\"/\"+limit_name+model_name_ext+\".dat\")"
   ]
  },
  {
   "cell_type": "markdown",
   "metadata": {},
   "source": [
    "# $\\theta x$ model and $\\theta x B-L$ "
   ]
  },
  {
   "cell_type": "code",
   "execution_count": 3,
   "metadata": {},
   "outputs": [
    {
     "name": "stdout",
     "output_type": "stream",
     "text": [
      "  0.01 0.18049313593908178 0.35983663114994896\n",
      "  1.0 0.18049313593908178 0.35983663114994896\n",
      "  10.0 0.18049313593908178 0.35983663114994896\n"
     ]
    }
   ],
   "source": [
    "import numpy as np\n",
    "xlist=np.loadtxt(\"data/theta_x_model/xlist.csv\")\n",
    "\n",
    "model_name=\"theta_x_model\";\n",
    "for i,x in enumerate(xlist):\n",
    "    model_name_ext=str(i+1)\n",
    "    model = darkcast.Model(model_name+model_name_ext)\n",
    "    print(\"\\r \",x, model.xfs[\"e\"](0),model.xfs[\"nue\"](0))\n",
    "    for limit_name in ['BaBar_Lees2014xha','LHCb_Aaij2019bvg_prompt',\"NA48_Batley2015lha\",\"KLOE_Babusci2012cr\",\"E137_Andreas2012mt\",\n",
    "                   \"E141_Riordan1987aw\",\"E774_Bross1989mp\",\"Orsay_Davier1989wz\"]:\n",
    "        limit = darkcast.Limit(limit_name)\n",
    "        recast = limit.recast(model)\n",
    "        recast.write(\"data/\"+model_name+\"/\"+limit_name+model_name_ext+\".dat\")"
   ]
  },
  {
   "cell_type": "code",
   "execution_count": 7,
   "metadata": {},
   "outputs": [
    {
     "data": {
      "text/plain": [
       "[0.35983663114994896, 0.18049313593908178]"
      ]
     },
     "execution_count": 7,
     "metadata": {},
     "output_type": "execute_result"
    }
   ],
   "source": [
    "nue_coeff=model.xfs[\"nue\"](0)\n",
    "e_coeff=model.xfs[\"e\"](0)\n",
    "\n",
    "[nue_coeff,e_coeff]"
   ]
  },
  {
   "cell_type": "code",
   "execution_count": 2,
   "metadata": {},
   "outputs": [],
   "source": [
    "[nue_coeff,e_coeff]=[0.3598,0.180493]"
   ]
  },
  {
   "cell_type": "code",
   "execution_count": 3,
   "metadata": {},
   "outputs": [
    {
     "name": "stdout",
     "output_type": "stream",
     "text": [
      "  0.01 0.1799719500816833 0.36983663114994897\n",
      "  1.0 1.0018936279012498 1.359836631149949\n",
      "  10.0 9.987227266223652 10.35983663114995\n"
     ]
    }
   ],
   "source": [
    "import numpy as np\n",
    "xlist=np.loadtxt(\"data/theta_xBL_model/xlist.csv\")\n",
    "\n",
    "model_name=\"theta_xBL_model\";\n",
    "for i,x in enumerate(xlist):\n",
    "    model_name_ext=str(i+1)\n",
    "    model = darkcast.Model(model_name+model_name_ext)\n",
    "    print(\"\\r \",x, model.xfs[\"e\"](0),model.xfs[\"nue\"](0))\n",
    "    for limit_name in ['BaBar_Lees2014xha','LHCb_Aaij2019bvg_prompt',\"NA48_Batley2015lha\",\"KLOE_Babusci2012cr\",\"E137_Andreas2012mt\",\n",
    "                   \"E141_Riordan1987aw\",\"E774_Bross1989mp\",\"Orsay_Davier1989wz\"]:\n",
    "        limit = darkcast.Limit(limit_name)\n",
    "        recast = limit.recast(model)\n",
    "        recast.write(\"data/\"+model_name+\"/\"+limit_name+model_name_ext+\".dat\")\n",
    "    \n",
    "    ###### nu e scattering recats   \n",
    "    g2ratio=abs(model.xfs[\"nue\"](0)*model.xfs[\"e\"](0)/(nue_coeff*e_coeff) )\n",
    "    for name in [\"CHARMII\",\"TEXONO\"]:\n",
    "        data= np.loadtxt(\"data/\"+name+\"_theta.dat\")\n",
    "        if g2ratio>0:\n",
    "            data[:,1]=data[:,1]-np.log10(g2ratio**0.5)\n",
    "        else:\n",
    "            data[:,1]=0*data[:,1]+2\n",
    "        np.savetxt(\"data/\"+model_name+\"/\"+name+model_name_ext+\".dat\",data)"
   ]
  },
  {
   "cell_type": "markdown",
   "metadata": {
    "heading_collapsed": true
   },
   "source": [
    "# C  model"
   ]
  },
  {
   "cell_type": "code",
   "execution_count": null,
   "metadata": {
    "hidden": true
   },
   "outputs": [],
   "source": []
  },
  {
   "cell_type": "code",
   "execution_count": 8,
   "metadata": {
    "hidden": true
   },
   "outputs": [],
   "source": [
    "# import numpy as np\n",
    "# xlist=np.loadtxt(\"data/theta_x_model/xlist.csv\")\n",
    "\n",
    "# model_name=\"theta_x_model\";\n",
    "# for i,x in enumerate(xlist):\n",
    "#     model_name_ext=str(i+1)\n",
    "#     model = darkcast.Model(model_name+model_name_ext)\n",
    "#     print(\"\\r \",x, model.xfs[\"e\"](0),model.xfs[\"nue\"](0))\n",
    "#     for limit_name in ['BaBar_Lees2014xha','LHCb_Aaij2019bvg_prompt',\"NA48_Batley2015lha\",\"KLOE_Babusci2012cr\",\"E137_Andreas2012mt\",\n",
    "#                    \"E141_Riordan1987aw\",\"E774_Bross1989mp\",\"Orsay_Davier1989wz\"]:\n",
    "#         limit = darkcast.Limit(limit_name)\n",
    "#         recast = limit.recast(model)\n",
    "#         recast.write(\"data/\"+model_name+\"/\"+limit_name+model_name_ext+\".dat\")\n",
    "    \n",
    "#     model.xfs[\"nue\"](0)*model.xfs[\"e\"](0)/(nue_coeff*e_coeff)"
   ]
  },
  {
   "cell_type": "code",
   "execution_count": 2,
   "metadata": {
    "hidden": true
   },
   "outputs": [],
   "source": [
    "[nue_coeff,e_coeff]=[0.3598,0.180493]"
   ]
  },
  {
   "cell_type": "code",
   "execution_count": 3,
   "metadata": {
    "hidden": true
   },
   "outputs": [
    {
     "name": "stdout",
     "output_type": "stream",
     "text": [
      "  0 0.7071067811865475\n",
      "  1 0.7071067811865475\n",
      "  2 1.7677669529663687\n"
     ]
    }
   ],
   "source": [
    "import numpy as np\n",
    "\n",
    "model_name=\"C_model\";\n",
    "for i,model_name_ext  in enumerate([\"1\",\"2\",\"3\"]):\n",
    "    model_name_ext=str(i+1)\n",
    "    model = darkcast.Model(model_name+model_name_ext)\n",
    "    print(\"\\r \",i, model.xfs[\"e\"](0))\n",
    "    for limit_name in ['BaBar_Lees2014xha','LHCb_Aaij2019bvg_prompt',\"NA48_Batley2015lha\",\"KLOE_Babusci2012cr\",\"E137_Andreas2012mt\",\n",
    "                   \"E141_Riordan1987aw\",\"E774_Bross1989mp\",\"Orsay_Davier1989wz\"]:\n",
    "        limit = darkcast.Limit(limit_name)\n",
    "        recast = limit.recast(model)\n",
    "        recast.write(\"data/\"+model_name+\"/\"+limit_name+model_name_ext+\".dat\")\n",
    "        \n",
    "    g2ratio=abs(model.xfs[\"nue\"](0)*model.xfs[\"e\"](0)/(nue_coeff*e_coeff) )\n",
    "    # charmII=np.loadtxt(\"data/CHARMII_theta.dat\")\n",
    "    # texono=np.loadtxt(\"data/TEXONO_theta.dat\")\n",
    "    for name in [\"CHARMII\",\"TEXONO\"]:\n",
    "        data= np.loadtxt(\"data/\"+name+\"_theta.dat\")\n",
    "        if g2ratio>0:\n",
    "            data[:,1]=data[:,1]-np.log10(g2ratio**0.5)\n",
    "        else:\n",
    "            data[:,1]=0*data[:,1]+2\n",
    "        np.savetxt(\"data/\"+model_name+\"/\"+name+model_name_ext+\".dat\",data)\n",
    "    "
   ]
  },
  {
   "cell_type": "code",
   "execution_count": 23,
   "metadata": {
    "hidden": true
   },
   "outputs": [
    {
     "data": {
      "text/plain": [
       "[-1.5, 1.7677669529663687]"
      ]
     },
     "execution_count": 23,
     "metadata": {},
     "output_type": "execute_result"
    }
   ],
   "source": [
    "[model.xfs[\"nue\"](0),model.xfs[\"e\"](0)]"
   ]
  },
  {
   "cell_type": "code",
   "execution_count": 22,
   "metadata": {
    "hidden": true
   },
   "outputs": [
    {
     "data": {
      "text/plain": [
       "-40.83144479352811"
      ]
     },
     "execution_count": 22,
     "metadata": {},
     "output_type": "execute_result"
    }
   ],
   "source": [
    "model.xfs[\"nue\"](0)*model.xfs[\"e\"](0)/(nue_coeff*e_coeff)"
   ]
  },
  {
   "cell_type": "code",
   "execution_count": 19,
   "metadata": {
    "hidden": true
   },
   "outputs": [],
   "source": [
    "\n",
    "\n",
    "# g2ratio=model.xfs[\"nue\"](0)*model.xfs[\"e\"](0)/(nue_coeff*e_coeff)\n",
    "# # charmII=np.loadtxt(\"data/CHARMII_theta.dat\")\n",
    "# # texono=np.loadtxt(\"data/TEXONO_theta.dat\")\n",
    "# for name in [\"CHARMII\",\"TEXONO\"]:\n",
    "#     data= np.loadtxt(\"data/\"+name+\"_theta.dat\")\n",
    "#     if g2ratio>0:\n",
    "#         data[:,1]=data[:,1]-np.log10(g2ratio**0.5)\n",
    "#     else:\n",
    "#         data[:,1]=0*data[:,1]+2\n",
    "#     np.savetxt(\"data/\"+model_name+\"/\"+name+\".dat\",data)\n"
   ]
  },
  {
   "cell_type": "code",
   "execution_count": null,
   "metadata": {
    "hidden": true
   },
   "outputs": [],
   "source": []
  }
 ],
 "metadata": {
  "kernelspec": {
   "display_name": "Python 3",
   "language": "python",
   "name": "python3"
  },
  "language_info": {
   "codemirror_mode": {
    "name": "ipython",
    "version": 3
   },
   "file_extension": ".py",
   "mimetype": "text/x-python",
   "name": "python",
   "nbconvert_exporter": "python",
   "pygments_lexer": "ipython3",
   "version": "3.8.5"
  }
 },
 "nbformat": 4,
 "nbformat_minor": 2
}
